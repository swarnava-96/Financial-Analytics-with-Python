{
  "nbformat": 4,
  "nbformat_minor": 0,
  "metadata": {
    "colab": {
      "name": "ETH Price Prediction using SVR",
      "provenance": [],
      "mount_file_id": "1CSJN15mQZJ_1znN4D4ohwTEF0yeIOYON",
      "authorship_tag": "ABX9TyOkf1nYe83VmKXiJ1wBs4e/",
      "include_colab_link": true
    },
    "kernelspec": {
      "name": "python3",
      "display_name": "Python 3"
    },
    "language_info": {
      "name": "python"
    }
  },
  "cells": [
    {
      "cell_type": "markdown",
      "metadata": {
        "id": "view-in-github",
        "colab_type": "text"
      },
      "source": [
        "<a href=\"https://colab.research.google.com/github/swarnava-96/Financial-Analytics-with-Python/blob/main/ETH_Price_Prediction_using_SVR.ipynb\" target=\"_parent\"><img src=\"https://colab.research.google.com/assets/colab-badge.svg\" alt=\"Open In Colab\"/></a>"
      ]
    },
    {
      "cell_type": "markdown",
      "metadata": {
        "id": "JVTknMZ2ciUw"
      },
      "source": [
        "# **Predicting Future Price of Ethereum**\n",
        "Data Source: Yahoo Finance (01/01/2021 - 08/09/2021)\n",
        "\n",
        "### Importing the necessary libraries"
      ]
    },
    {
      "cell_type": "code",
      "metadata": {
        "id": "sa01e2IQcvTc"
      },
      "source": [
        "import numpy as np\n",
        "import pandas as pd\n",
        "from sklearn.svm import SVR\n",
        "import matplotlib.pyplot as plt\n",
        "%matplotlib inline\n",
        "plt.style.use(\"fivethirtyeight\")"
      ],
      "execution_count": 1,
      "outputs": []
    },
    {
      "cell_type": "code",
      "metadata": {
        "colab": {
          "base_uri": "https://localhost:8080/"
        },
        "id": "ZirPmNhqdanB",
        "outputId": "85ab6478-be1f-44c8-916c-9a76ce9c8029"
      },
      "source": [
        "cd \"/content/drive/MyDrive/Datasets\""
      ],
      "execution_count": 2,
      "outputs": [
        {
          "output_type": "stream",
          "name": "stdout",
          "text": [
            "/content/drive/MyDrive/Datasets\n"
          ]
        }
      ]
    },
    {
      "cell_type": "markdown",
      "metadata": {
        "id": "Teqqd2EtgpaX"
      },
      "source": [
        "### Loading the dataset"
      ]
    },
    {
      "cell_type": "code",
      "metadata": {
        "colab": {
          "base_uri": "https://localhost:8080/",
          "height": 204
        },
        "id": "x5LeufIXgPsH",
        "outputId": "3c6fb30a-a236-4e57-bebd-de3bc2d57f4b"
      },
      "source": [
        "df = pd.read_csv(\"ETH-USD.csv\")\n",
        "df.head()"
      ],
      "execution_count": 4,
      "outputs": [
        {
          "output_type": "execute_result",
          "data": {
            "text/html": [
              "<div>\n",
              "<style scoped>\n",
              "    .dataframe tbody tr th:only-of-type {\n",
              "        vertical-align: middle;\n",
              "    }\n",
              "\n",
              "    .dataframe tbody tr th {\n",
              "        vertical-align: top;\n",
              "    }\n",
              "\n",
              "    .dataframe thead th {\n",
              "        text-align: right;\n",
              "    }\n",
              "</style>\n",
              "<table border=\"1\" class=\"dataframe\">\n",
              "  <thead>\n",
              "    <tr style=\"text-align: right;\">\n",
              "      <th></th>\n",
              "      <th>Date</th>\n",
              "      <th>Open</th>\n",
              "      <th>High</th>\n",
              "      <th>Low</th>\n",
              "      <th>Close</th>\n",
              "      <th>Adj Close</th>\n",
              "      <th>Volume</th>\n",
              "    </tr>\n",
              "  </thead>\n",
              "  <tbody>\n",
              "    <tr>\n",
              "      <th>0</th>\n",
              "      <td>2021-01-01</td>\n",
              "      <td>737.708374</td>\n",
              "      <td>749.201843</td>\n",
              "      <td>719.792236</td>\n",
              "      <td>730.367554</td>\n",
              "      <td>730.367554</td>\n",
              "      <td>13652004358</td>\n",
              "    </tr>\n",
              "    <tr>\n",
              "      <th>1</th>\n",
              "      <td>2021-01-02</td>\n",
              "      <td>730.402649</td>\n",
              "      <td>786.798462</td>\n",
              "      <td>718.109497</td>\n",
              "      <td>774.534973</td>\n",
              "      <td>774.534973</td>\n",
              "      <td>19740771179</td>\n",
              "    </tr>\n",
              "    <tr>\n",
              "      <th>2</th>\n",
              "      <td>2021-01-03</td>\n",
              "      <td>774.511841</td>\n",
              "      <td>1006.565002</td>\n",
              "      <td>771.561646</td>\n",
              "      <td>975.507690</td>\n",
              "      <td>975.507690</td>\n",
              "      <td>45200463368</td>\n",
              "    </tr>\n",
              "    <tr>\n",
              "      <th>3</th>\n",
              "      <td>2021-01-04</td>\n",
              "      <td>977.058838</td>\n",
              "      <td>1153.189209</td>\n",
              "      <td>912.305359</td>\n",
              "      <td>1040.233032</td>\n",
              "      <td>1040.233032</td>\n",
              "      <td>56945985763</td>\n",
              "    </tr>\n",
              "    <tr>\n",
              "      <th>4</th>\n",
              "      <td>2021-01-05</td>\n",
              "      <td>1041.498779</td>\n",
              "      <td>1129.371460</td>\n",
              "      <td>986.811279</td>\n",
              "      <td>1100.006104</td>\n",
              "      <td>1100.006104</td>\n",
              "      <td>41535932781</td>\n",
              "    </tr>\n",
              "  </tbody>\n",
              "</table>\n",
              "</div>"
            ],
            "text/plain": [
              "         Date         Open         High  ...        Close    Adj Close       Volume\n",
              "0  2021-01-01   737.708374   749.201843  ...   730.367554   730.367554  13652004358\n",
              "1  2021-01-02   730.402649   786.798462  ...   774.534973   774.534973  19740771179\n",
              "2  2021-01-03   774.511841  1006.565002  ...   975.507690   975.507690  45200463368\n",
              "3  2021-01-04   977.058838  1153.189209  ...  1040.233032  1040.233032  56945985763\n",
              "4  2021-01-05  1041.498779  1129.371460  ...  1100.006104  1100.006104  41535932781\n",
              "\n",
              "[5 rows x 7 columns]"
            ]
          },
          "metadata": {},
          "execution_count": 4
        }
      ]
    },
    {
      "cell_type": "code",
      "metadata": {
        "colab": {
          "base_uri": "https://localhost:8080/",
          "height": 204
        },
        "id": "kf6AgknDgzE1",
        "outputId": "1170bf75-38fb-47ff-8f5e-1e72190ef492"
      },
      "source": [
        "# Lets set the date as index\n",
        "\n",
        "df = df.set_index(pd.DatetimeIndex(df[\"Date\"].values))\n",
        "df.head()"
      ],
      "execution_count": 5,
      "outputs": [
        {
          "output_type": "execute_result",
          "data": {
            "text/html": [
              "<div>\n",
              "<style scoped>\n",
              "    .dataframe tbody tr th:only-of-type {\n",
              "        vertical-align: middle;\n",
              "    }\n",
              "\n",
              "    .dataframe tbody tr th {\n",
              "        vertical-align: top;\n",
              "    }\n",
              "\n",
              "    .dataframe thead th {\n",
              "        text-align: right;\n",
              "    }\n",
              "</style>\n",
              "<table border=\"1\" class=\"dataframe\">\n",
              "  <thead>\n",
              "    <tr style=\"text-align: right;\">\n",
              "      <th></th>\n",
              "      <th>Date</th>\n",
              "      <th>Open</th>\n",
              "      <th>High</th>\n",
              "      <th>Low</th>\n",
              "      <th>Close</th>\n",
              "      <th>Adj Close</th>\n",
              "      <th>Volume</th>\n",
              "    </tr>\n",
              "  </thead>\n",
              "  <tbody>\n",
              "    <tr>\n",
              "      <th>2021-01-01</th>\n",
              "      <td>2021-01-01</td>\n",
              "      <td>737.708374</td>\n",
              "      <td>749.201843</td>\n",
              "      <td>719.792236</td>\n",
              "      <td>730.367554</td>\n",
              "      <td>730.367554</td>\n",
              "      <td>13652004358</td>\n",
              "    </tr>\n",
              "    <tr>\n",
              "      <th>2021-01-02</th>\n",
              "      <td>2021-01-02</td>\n",
              "      <td>730.402649</td>\n",
              "      <td>786.798462</td>\n",
              "      <td>718.109497</td>\n",
              "      <td>774.534973</td>\n",
              "      <td>774.534973</td>\n",
              "      <td>19740771179</td>\n",
              "    </tr>\n",
              "    <tr>\n",
              "      <th>2021-01-03</th>\n",
              "      <td>2021-01-03</td>\n",
              "      <td>774.511841</td>\n",
              "      <td>1006.565002</td>\n",
              "      <td>771.561646</td>\n",
              "      <td>975.507690</td>\n",
              "      <td>975.507690</td>\n",
              "      <td>45200463368</td>\n",
              "    </tr>\n",
              "    <tr>\n",
              "      <th>2021-01-04</th>\n",
              "      <td>2021-01-04</td>\n",
              "      <td>977.058838</td>\n",
              "      <td>1153.189209</td>\n",
              "      <td>912.305359</td>\n",
              "      <td>1040.233032</td>\n",
              "      <td>1040.233032</td>\n",
              "      <td>56945985763</td>\n",
              "    </tr>\n",
              "    <tr>\n",
              "      <th>2021-01-05</th>\n",
              "      <td>2021-01-05</td>\n",
              "      <td>1041.498779</td>\n",
              "      <td>1129.371460</td>\n",
              "      <td>986.811279</td>\n",
              "      <td>1100.006104</td>\n",
              "      <td>1100.006104</td>\n",
              "      <td>41535932781</td>\n",
              "    </tr>\n",
              "  </tbody>\n",
              "</table>\n",
              "</div>"
            ],
            "text/plain": [
              "                  Date         Open  ...    Adj Close       Volume\n",
              "2021-01-01  2021-01-01   737.708374  ...   730.367554  13652004358\n",
              "2021-01-02  2021-01-02   730.402649  ...   774.534973  19740771179\n",
              "2021-01-03  2021-01-03   774.511841  ...   975.507690  45200463368\n",
              "2021-01-04  2021-01-04   977.058838  ...  1040.233032  56945985763\n",
              "2021-01-05  2021-01-05  1041.498779  ...  1100.006104  41535932781\n",
              "\n",
              "[5 rows x 7 columns]"
            ]
          },
          "metadata": {},
          "execution_count": 5
        }
      ]
    },
    {
      "cell_type": "markdown",
      "metadata": {
        "id": "bfNDJcDSt902"
      },
      "source": [
        "### Model Building"
      ]
    },
    {
      "cell_type": "code",
      "metadata": {
        "id": "mhWtbVDGieSg"
      },
      "source": [
        "future_days = 5"
      ],
      "execution_count": 6,
      "outputs": []
    },
    {
      "cell_type": "code",
      "metadata": {
        "colab": {
          "base_uri": "https://localhost:8080/",
          "height": 419
        },
        "id": "IqfNqBt-s88a",
        "outputId": "51a6b15d-1242-41fb-ea0b-c3714c4b8e8f"
      },
      "source": [
        "# Creating the target column\n",
        "df[str(future_days) + \"_Days_Price_Forecast\"] = df[[\"Close\"]].shift(- future_days)\n",
        "\n",
        "# Lets see the current price and the future price\n",
        "df[[\"Close\", str(future_days) + \"_Days_Price_Forecast\"]]"
      ],
      "execution_count": 7,
      "outputs": [
        {
          "output_type": "execute_result",
          "data": {
            "text/html": [
              "<div>\n",
              "<style scoped>\n",
              "    .dataframe tbody tr th:only-of-type {\n",
              "        vertical-align: middle;\n",
              "    }\n",
              "\n",
              "    .dataframe tbody tr th {\n",
              "        vertical-align: top;\n",
              "    }\n",
              "\n",
              "    .dataframe thead th {\n",
              "        text-align: right;\n",
              "    }\n",
              "</style>\n",
              "<table border=\"1\" class=\"dataframe\">\n",
              "  <thead>\n",
              "    <tr style=\"text-align: right;\">\n",
              "      <th></th>\n",
              "      <th>Close</th>\n",
              "      <th>5_Days_Price_Forecast</th>\n",
              "    </tr>\n",
              "  </thead>\n",
              "  <tbody>\n",
              "    <tr>\n",
              "      <th>2021-01-01</th>\n",
              "      <td>730.367554</td>\n",
              "      <td>1207.112183</td>\n",
              "    </tr>\n",
              "    <tr>\n",
              "      <th>2021-01-02</th>\n",
              "      <td>774.534973</td>\n",
              "      <td>1225.678101</td>\n",
              "    </tr>\n",
              "    <tr>\n",
              "      <th>2021-01-03</th>\n",
              "      <td>975.507690</td>\n",
              "      <td>1224.197144</td>\n",
              "    </tr>\n",
              "    <tr>\n",
              "      <th>2021-01-04</th>\n",
              "      <td>1040.233032</td>\n",
              "      <td>1281.077271</td>\n",
              "    </tr>\n",
              "    <tr>\n",
              "      <th>2021-01-05</th>\n",
              "      <td>1100.006104</td>\n",
              "      <td>1262.246704</td>\n",
              "    </tr>\n",
              "    <tr>\n",
              "      <th>...</th>\n",
              "      <td>...</td>\n",
              "      <td>...</td>\n",
              "    </tr>\n",
              "    <tr>\n",
              "      <th>2021-09-04</th>\n",
              "      <td>3887.828369</td>\n",
              "      <td>NaN</td>\n",
              "    </tr>\n",
              "    <tr>\n",
              "      <th>2021-09-05</th>\n",
              "      <td>3952.133545</td>\n",
              "      <td>NaN</td>\n",
              "    </tr>\n",
              "    <tr>\n",
              "      <th>2021-09-06</th>\n",
              "      <td>3928.379395</td>\n",
              "      <td>NaN</td>\n",
              "    </tr>\n",
              "    <tr>\n",
              "      <th>2021-09-07</th>\n",
              "      <td>3426.394287</td>\n",
              "      <td>NaN</td>\n",
              "    </tr>\n",
              "    <tr>\n",
              "      <th>2021-09-08</th>\n",
              "      <td>3548.818848</td>\n",
              "      <td>NaN</td>\n",
              "    </tr>\n",
              "  </tbody>\n",
              "</table>\n",
              "<p>251 rows × 2 columns</p>\n",
              "</div>"
            ],
            "text/plain": [
              "                  Close  5_Days_Price_Forecast\n",
              "2021-01-01   730.367554            1207.112183\n",
              "2021-01-02   774.534973            1225.678101\n",
              "2021-01-03   975.507690            1224.197144\n",
              "2021-01-04  1040.233032            1281.077271\n",
              "2021-01-05  1100.006104            1262.246704\n",
              "...                 ...                    ...\n",
              "2021-09-04  3887.828369                    NaN\n",
              "2021-09-05  3952.133545                    NaN\n",
              "2021-09-06  3928.379395                    NaN\n",
              "2021-09-07  3426.394287                    NaN\n",
              "2021-09-08  3548.818848                    NaN\n",
              "\n",
              "[251 rows x 2 columns]"
            ]
          },
          "metadata": {},
          "execution_count": 7
        }
      ]
    },
    {
      "cell_type": "code",
      "metadata": {
        "colab": {
          "base_uri": "https://localhost:8080/"
        },
        "id": "0DyZj1EFtxJi",
        "outputId": "ce06836c-aeba-4880-a42a-147f6ffcf41c"
      },
      "source": [
        "# Independent feature\n",
        "\n",
        "X = np.array(df[[\"Close\"]])\n",
        "X = X[: df.shape[0] - future_days] \n",
        "print(X)"
      ],
      "execution_count": 8,
      "outputs": [
        {
          "output_type": "stream",
          "name": "stdout",
          "text": [
            "[[ 730.367554]\n",
            " [ 774.534973]\n",
            " [ 975.50769 ]\n",
            " [1040.233032]\n",
            " [1100.006104]\n",
            " [1207.112183]\n",
            " [1225.678101]\n",
            " [1224.197144]\n",
            " [1281.077271]\n",
            " [1262.246704]\n",
            " [1090.145386]\n",
            " [1043.43457 ]\n",
            " [1130.73938 ]\n",
            " [1218.453003]\n",
            " [1171.834595]\n",
            " [1233.537598]\n",
            " [1230.172241]\n",
            " [1257.279541]\n",
            " [1377.295898]\n",
            " [1382.274048]\n",
            " [1121.570923]\n",
            " [1236.512207]\n",
            " [1230.990601]\n",
            " [1391.609375]\n",
            " [1324.414795]\n",
            " [1357.058105]\n",
            " [1253.187134]\n",
            " [1298.101807]\n",
            " [1382.522827]\n",
            " [1376.115479]\n",
            " [1314.986206]\n",
            " [1369.040527]\n",
            " [1515.193726]\n",
            " [1660.909546]\n",
            " [1594.762695]\n",
            " [1718.650879]\n",
            " [1677.846802]\n",
            " [1614.227783]\n",
            " [1746.616821]\n",
            " [1768.035034]\n",
            " [1744.243408]\n",
            " [1783.797974]\n",
            " [1843.532593]\n",
            " [1814.109863]\n",
            " [1805.084106]\n",
            " [1779.791016]\n",
            " [1781.067505]\n",
            " [1848.458252]\n",
            " [1937.449219]\n",
            " [1960.164795]\n",
            " [1919.534058]\n",
            " [1935.601074]\n",
            " [1781.99292 ]\n",
            " [1570.203979]\n",
            " [1626.575684]\n",
            " [1475.703735]\n",
            " [1446.033691]\n",
            " [1459.973145]\n",
            " [1416.04895 ]\n",
            " [1564.707642]\n",
            " [1492.608765]\n",
            " [1575.853149]\n",
            " [1541.914307]\n",
            " [1533.275024]\n",
            " [1654.741577]\n",
            " [1723.153809]\n",
            " [1834.727905]\n",
            " [1868.048828]\n",
            " [1799.16626 ]\n",
            " [1826.194946]\n",
            " [1772.102417]\n",
            " [1924.685425]\n",
            " [1854.564331]\n",
            " [1791.702271]\n",
            " [1806.971802]\n",
            " [1823.449341]\n",
            " [1782.855103]\n",
            " [1817.624146]\n",
            " [1812.634644]\n",
            " [1788.217041]\n",
            " [1691.333984]\n",
            " [1678.650146]\n",
            " [1593.413452]\n",
            " [1595.359253]\n",
            " [1702.842041]\n",
            " [1716.494629]\n",
            " [1691.355957]\n",
            " [1819.684937]\n",
            " [1846.033691]\n",
            " [1918.362061]\n",
            " [1977.276855]\n",
            " [2143.225586]\n",
            " [2028.422485]\n",
            " [2093.122803]\n",
            " [2107.887207]\n",
            " [2118.378906]\n",
            " [1971.077271]\n",
            " [2088.57373 ]\n",
            " [2072.108887]\n",
            " [2135.942139]\n",
            " [2157.656982]\n",
            " [2139.353271]\n",
            " [2299.187744]\n",
            " [2435.10498 ]\n",
            " [2519.116211]\n",
            " [2431.946533]\n",
            " [2344.89502 ]\n",
            " [2237.136963]\n",
            " [2166.188721]\n",
            " [2330.210938]\n",
            " [2364.751709]\n",
            " [2403.535156]\n",
            " [2363.586182]\n",
            " [2211.625732]\n",
            " [2316.05957 ]\n",
            " [2534.481689]\n",
            " [2662.865234]\n",
            " [2746.380127]\n",
            " [2756.876953]\n",
            " [2773.207031]\n",
            " [2945.892822]\n",
            " [2952.056152]\n",
            " [3431.086182]\n",
            " [3253.629395]\n",
            " [3522.783203]\n",
            " [3490.880371]\n",
            " [3484.729004]\n",
            " [3902.647705]\n",
            " [3928.844727]\n",
            " [3952.293945]\n",
            " [4168.701172]\n",
            " [3785.848633]\n",
            " [3715.148438]\n",
            " [4079.057373]\n",
            " [3638.12207 ]\n",
            " [3587.506104]\n",
            " [3282.397705]\n",
            " [3380.070068]\n",
            " [2460.679199]\n",
            " [2784.294189]\n",
            " [2430.621338]\n",
            " [2295.705566]\n",
            " [2109.579834]\n",
            " [2643.591064]\n",
            " [2706.628906]\n",
            " [2888.69873 ]\n",
            " [2736.488525]\n",
            " [2419.90625 ]\n",
            " [2279.51416 ]\n",
            " [2390.30542 ]\n",
            " [2714.945313]\n",
            " [2633.518311]\n",
            " [2706.125   ]\n",
            " [2855.126465]\n",
            " [2688.195068]\n",
            " [2630.576904]\n",
            " [2715.092773]\n",
            " [2590.263184]\n",
            " [2517.438721]\n",
            " [2608.26709 ]\n",
            " [2471.518555]\n",
            " [2353.768799]\n",
            " [2372.484375]\n",
            " [2508.391602]\n",
            " [2537.891113]\n",
            " [2610.936768]\n",
            " [2367.663574]\n",
            " [2372.001953]\n",
            " [2231.733154]\n",
            " [2178.499023]\n",
            " [2246.364502]\n",
            " [1888.44751 ]\n",
            " [1874.950073]\n",
            " [1989.736328]\n",
            " [1988.456299]\n",
            " [1813.217285]\n",
            " [1829.239258]\n",
            " [1978.894653]\n",
            " [2079.657471]\n",
            " [2160.768311]\n",
            " [2274.547607]\n",
            " [2113.605469]\n",
            " [2150.040283]\n",
            " [2226.114258]\n",
            " [2321.724121]\n",
            " [2198.58252 ]\n",
            " [2324.679443]\n",
            " [2315.161865]\n",
            " [2120.026367]\n",
            " [2146.692383]\n",
            " [2111.403564]\n",
            " [2139.664795]\n",
            " [2036.721069]\n",
            " [1940.083984]\n",
            " [1994.331299]\n",
            " [1911.175659]\n",
            " [1880.382935]\n",
            " [1898.825195]\n",
            " [1895.552124]\n",
            " [1817.296631]\n",
            " [1787.510742]\n",
            " [1990.970825]\n",
            " [2025.202759]\n",
            " [2124.776611]\n",
            " [2189.21875 ]\n",
            " [2191.373779]\n",
            " [2233.366699]\n",
            " [2298.333496]\n",
            " [2296.54541 ]\n",
            " [2380.956787]\n",
            " [2466.961426]\n",
            " [2536.209961]\n",
            " [2561.852051]\n",
            " [2610.15332 ]\n",
            " [2502.349609]\n",
            " [2724.619873]\n",
            " [2827.328857]\n",
            " [2890.94165 ]\n",
            " [3157.23877 ]\n",
            " [3013.732666]\n",
            " [3167.856201]\n",
            " [3141.691162]\n",
            " [3164.245117]\n",
            " [3043.414307]\n",
            " [3322.21167 ]\n",
            " [3265.443359]\n",
            " [3310.50415 ]\n",
            " [3156.509521]\n",
            " [3014.845947]\n",
            " [3020.089844]\n",
            " [3182.702148]\n",
            " [3286.935303]\n",
            " [3226.083984]\n",
            " [3242.115479]\n",
            " [3319.257324]\n",
            " [3172.456299]\n",
            " [3224.915283]\n",
            " [3100.325439]\n",
            " [3270.60083 ]\n",
            " [3244.40332 ]\n",
            " [3227.002686]\n",
            " [3224.374268]\n",
            " [3433.732666]\n",
            " [3834.828125]\n",
            " [3790.98999 ]\n",
            " [3940.614746]]\n"
          ]
        }
      ]
    },
    {
      "cell_type": "code",
      "metadata": {
        "colab": {
          "base_uri": "https://localhost:8080/"
        },
        "id": "2HricLviuocZ",
        "outputId": "0d054007-6ca2-4f9c-fe79-69d3b62dbf23"
      },
      "source": [
        "# Independent feature\n",
        "\n",
        "y = np.array(df[str(future_days) + \"_Days_Price_Forecast\"])\n",
        "y = y[: - future_days]\n",
        "print(y)"
      ],
      "execution_count": 9,
      "outputs": [
        {
          "output_type": "stream",
          "name": "stdout",
          "text": [
            "[1207.112183 1225.678101 1224.197144 1281.077271 1262.246704 1090.145386\n",
            " 1043.43457  1130.73938  1218.453003 1171.834595 1233.537598 1230.172241\n",
            " 1257.279541 1377.295898 1382.274048 1121.570923 1236.512207 1230.990601\n",
            " 1391.609375 1324.414795 1357.058105 1253.187134 1298.101807 1382.522827\n",
            " 1376.115479 1314.986206 1369.040527 1515.193726 1660.909546 1594.762695\n",
            " 1718.650879 1677.846802 1614.227783 1746.616821 1768.035034 1744.243408\n",
            " 1783.797974 1843.532593 1814.109863 1805.084106 1779.791016 1781.067505\n",
            " 1848.458252 1937.449219 1960.164795 1919.534058 1935.601074 1781.99292\n",
            " 1570.203979 1626.575684 1475.703735 1446.033691 1459.973145 1416.04895\n",
            " 1564.707642 1492.608765 1575.853149 1541.914307 1533.275024 1654.741577\n",
            " 1723.153809 1834.727905 1868.048828 1799.16626  1826.194946 1772.102417\n",
            " 1924.685425 1854.564331 1791.702271 1806.971802 1823.449341 1782.855103\n",
            " 1817.624146 1812.634644 1788.217041 1691.333984 1678.650146 1593.413452\n",
            " 1595.359253 1702.842041 1716.494629 1691.355957 1819.684937 1846.033691\n",
            " 1918.362061 1977.276855 2143.225586 2028.422485 2093.122803 2107.887207\n",
            " 2118.378906 1971.077271 2088.57373  2072.108887 2135.942139 2157.656982\n",
            " 2139.353271 2299.187744 2435.10498  2519.116211 2431.946533 2344.89502\n",
            " 2237.136963 2166.188721 2330.210938 2364.751709 2403.535156 2363.586182\n",
            " 2211.625732 2316.05957  2534.481689 2662.865234 2746.380127 2756.876953\n",
            " 2773.207031 2945.892822 2952.056152 3431.086182 3253.629395 3522.783203\n",
            " 3490.880371 3484.729004 3902.647705 3928.844727 3952.293945 4168.701172\n",
            " 3785.848633 3715.148438 4079.057373 3638.12207  3587.506104 3282.397705\n",
            " 3380.070068 2460.679199 2784.294189 2430.621338 2295.705566 2109.579834\n",
            " 2643.591064 2706.628906 2888.69873  2736.488525 2419.90625  2279.51416\n",
            " 2390.30542  2714.945313 2633.518311 2706.125    2855.126465 2688.195068\n",
            " 2630.576904 2715.092773 2590.263184 2517.438721 2608.26709  2471.518555\n",
            " 2353.768799 2372.484375 2508.391602 2537.891113 2610.936768 2367.663574\n",
            " 2372.001953 2231.733154 2178.499023 2246.364502 1888.44751  1874.950073\n",
            " 1989.736328 1988.456299 1813.217285 1829.239258 1978.894653 2079.657471\n",
            " 2160.768311 2274.547607 2113.605469 2150.040283 2226.114258 2321.724121\n",
            " 2198.58252  2324.679443 2315.161865 2120.026367 2146.692383 2111.403564\n",
            " 2139.664795 2036.721069 1940.083984 1994.331299 1911.175659 1880.382935\n",
            " 1898.825195 1895.552124 1817.296631 1787.510742 1990.970825 2025.202759\n",
            " 2124.776611 2189.21875  2191.373779 2233.366699 2298.333496 2296.54541\n",
            " 2380.956787 2466.961426 2536.209961 2561.852051 2610.15332  2502.349609\n",
            " 2724.619873 2827.328857 2890.94165  3157.23877  3013.732666 3167.856201\n",
            " 3141.691162 3164.245117 3043.414307 3322.21167  3265.443359 3310.50415\n",
            " 3156.509521 3014.845947 3020.089844 3182.702148 3286.935303 3226.083984\n",
            " 3242.115479 3319.257324 3172.456299 3224.915283 3100.325439 3270.60083\n",
            " 3244.40332  3227.002686 3224.374268 3433.732666 3834.828125 3790.98999\n",
            " 3940.614746 3887.828369 3952.133545 3928.379395 3426.394287 3548.818848]\n"
          ]
        }
      ]
    },
    {
      "cell_type": "code",
      "metadata": {
        "id": "47_phPtmvSnF"
      },
      "source": [
        "# Train test split\n",
        "\n",
        "from sklearn.model_selection import train_test_split\n",
        "X_train, X_test, y_train, y_test = train_test_split(X, y, test_size = 0.2)"
      ],
      "execution_count": 10,
      "outputs": []
    },
    {
      "cell_type": "code",
      "metadata": {
        "colab": {
          "base_uri": "https://localhost:8080/"
        },
        "id": "Gymoy7xdvyvs",
        "outputId": "14e2f0f4-ead3-449d-9867-8617e3b42ede"
      },
      "source": [
        "# Model fitting\n",
        "\n",
        "svr = SVR(kernel = \"rbf\", C = 1e3, gamma = 0.00001)\n",
        "svr.fit(X_train, y_train)"
      ],
      "execution_count": 11,
      "outputs": [
        {
          "output_type": "execute_result",
          "data": {
            "text/plain": [
              "SVR(C=1000.0, cache_size=200, coef0=0.0, degree=3, epsilon=0.1, gamma=1e-05,\n",
              "    kernel='rbf', max_iter=-1, shrinking=True, tol=0.001, verbose=False)"
            ]
          },
          "metadata": {},
          "execution_count": 11
        }
      ]
    },
    {
      "cell_type": "code",
      "metadata": {
        "colab": {
          "base_uri": "https://localhost:8080/"
        },
        "id": "wR7wk4QJwc2a",
        "outputId": "8acb13c7-dadf-4864-c0ac-6b4a4cb08585"
      },
      "source": [
        "# Lets check the model performance\n",
        "\n",
        "svr.score(X_test, y_test)"
      ],
      "execution_count": 12,
      "outputs": [
        {
          "output_type": "execute_result",
          "data": {
            "text/plain": [
              "0.8274335147627553"
            ]
          },
          "metadata": {},
          "execution_count": 12
        }
      ]
    },
    {
      "cell_type": "markdown",
      "metadata": {
        "id": "7bk0gDpow8hc"
      },
      "source": [
        "We can't say that it performed bad. The dataset that I have taken is very small and prices really fluctuates each and every time. So, considering these in mind SVR perfomed well enough."
      ]
    },
    {
      "cell_type": "code",
      "metadata": {
        "colab": {
          "base_uri": "https://localhost:8080/"
        },
        "id": "mMzHKnDbwwhn",
        "outputId": "69e63a54-720d-42f4-9bb5-21620796b62f"
      },
      "source": [
        "# Lets see the predicted data\n",
        "\n",
        "svr_predicted = svr.predict(X_test)\n",
        "svr_predicted"
      ],
      "execution_count": 13,
      "outputs": [
        {
          "output_type": "execute_result",
          "data": {
            "text/plain": [
              "array([2001.26128055, 3232.63988089, 3238.88544379, 1236.89954534,\n",
              "       1786.62464408, 1778.59605623, 1796.38433864, 1634.46918492,\n",
              "       1790.70046884, 3217.50597822, 3261.60924071, 1606.49123235,\n",
              "       1953.59575646, 2356.51512696, 2266.59200868, 2270.75676559,\n",
              "       3218.26858837, 3251.7826538 , 2062.89625416, 2437.33271054,\n",
              "       1791.5721305 , 2283.21659088, 2350.392665  , 2313.16300571,\n",
              "       2494.8084033 , 1787.88585978, 2538.43811898, 2573.18909688,\n",
              "       2291.47424953, 2811.44237309, 3218.05320025, 1225.13888887,\n",
              "       2303.8798986 , 2539.13493248, 2043.0547014 , 2845.16673035,\n",
              "       2359.76199235, 3220.95779984, 2680.52575974, 1790.32742664,\n",
              "       1663.96396158, 3066.22968628, 2547.99404226, 1816.37915497,\n",
              "       1786.99775291, 2709.3307072 , 2074.02373466, 1230.32642666,\n",
              "       2103.8712846 , 2217.49580324])"
            ]
          },
          "metadata": {},
          "execution_count": 13
        }
      ]
    },
    {
      "cell_type": "code",
      "metadata": {
        "colab": {
          "base_uri": "https://localhost:8080/"
        },
        "id": "Ophk8Fv2xiSE",
        "outputId": "b80e1090-0d39-42d7-bedd-dfca7b4048bd"
      },
      "source": [
        "# Lets see the actual values\n",
        "\n",
        "y_test"
      ],
      "execution_count": 14,
      "outputs": [
        {
          "output_type": "execute_result",
          "data": {
            "text/plain": [
              "array([1570.203979, 3286.935303, 3156.509521, 1298.101807, 1819.684937,\n",
              "       1977.276855, 1702.842041, 1541.914307, 1564.707642, 3270.60083 ,\n",
              "       3902.647705, 1575.853149, 1787.510742, 2536.209961, 1940.083984,\n",
              "       2296.54541 , 3928.844727, 3785.848633, 2139.353271, 2773.207031,\n",
              "       1919.534058, 1880.382935, 2120.026367, 1988.456299, 2372.001953,\n",
              "       1823.449341, 2246.364502, 2952.056152, 2315.161865, 3522.783203,\n",
              "       3100.325439, 1257.279541, 2211.625732, 2166.188721, 1626.575684,\n",
              "       2706.628906, 2363.586182, 3834.828125, 3167.856201, 1843.532593,\n",
              "       1492.608765, 2517.438721, 2715.092773, 1937.449219, 1768.035034,\n",
              "       2633.518311, 2118.378906, 1377.295898, 1817.296631, 2435.10498 ])"
            ]
          },
          "metadata": {},
          "execution_count": 14
        }
      ]
    },
    {
      "cell_type": "code",
      "metadata": {
        "colab": {
          "base_uri": "https://localhost:8080/",
          "height": 302
        },
        "id": "8ZOVt4iZxse7",
        "outputId": "11e2af62-e9c0-42bf-a482-e115d93fde49"
      },
      "source": [
        "# Lets plot a graph showing Actual vs Predicted\n",
        "\n",
        "plt.figure(figsize = (12,4))\n",
        "plt.plot(svr_predicted, label = \"Prediction\", lw = 2, alpha = 0.7)\n",
        "plt.plot(y_test, label = \"Actual\", lw = 2, alpha = 0.7)\n",
        "\n",
        "plt.title(\"Actual vs Predicted\")\n",
        "plt.xlabel(\"Time\")\n",
        "plt.ylabel(\"Price in USD ($)\")\n",
        "plt.legend()\n",
        "plt.xticks(rotation = 45)\n",
        "plt.show();"
      ],
      "execution_count": 15,
      "outputs": [
        {
          "output_type": "display_data",
          "data": {
            "image/png": "[encoded data removed]",
            "text/plain": [
              "<Figure size 864x288 with 1 Axes>"
            ]
          },
          "metadata": {
            "needs_background": "light"
          }
        }
      ]
    }
  ]
}