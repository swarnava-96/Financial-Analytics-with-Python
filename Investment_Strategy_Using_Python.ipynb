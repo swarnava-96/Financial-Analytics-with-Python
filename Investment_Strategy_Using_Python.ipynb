{
  "nbformat": 4,
  "nbformat_minor": 0,
  "metadata": {
    "colab": {
      "name": "Investment Strategy Using Python",
      "provenance": [],
      "authorship_tag": "ABX9TyPn4XdYsV1LAaHuhIMQe4ia",
      "include_colab_link": true
    },
    "kernelspec": {
      "name": "python3",
      "display_name": "Python 3"
    },
    "language_info": {
      "name": "python"
    }
  },
  "cells": [
    {
      "cell_type": "markdown",
      "metadata": {
        "id": "view-in-github",
        "colab_type": "text"
      },
      "source": [
        "<a href=\"https://colab.research.google.com/github/swarnava-96/Financial-Analytics-with-Python/blob/main/Investment_Strategy_Using_Python.ipynb\" target=\"_parent\"><img src=\"https://colab.research.google.com/assets/colab-badge.svg\" alt=\"Open In Colab\"/></a>"
      ]
    },
    {
      "cell_type": "markdown",
      "metadata": {
        "id": "OkX_VNdk6IDY"
      },
      "source": [
        "# **Investment Strategy Using Python**\n",
        "Here, we assume that the individual retires in 10 years and the expenses of that individual is fixed. There is a saying that \"If you invest 50% of your income for 10 years then after 10 years you will be able to support yourself.\"\n",
        "\n",
        "### Importing the necessary libraries"
      ]
    },
    {
      "cell_type": "code",
      "metadata": {
        "id": "fGGAxPtt6NPg"
      },
      "source": [
        "import numpy as np\n",
        "import pandas as pd\n",
        "import matplotlib.pyplot as plt\n",
        "%matplotlib inline"
      ],
      "execution_count": 1,
      "outputs": []
    },
    {
      "cell_type": "code",
      "metadata": {
        "id": "XpIDCz5Y6dXW"
      },
      "source": [
        "# Lets create lists for the various features\n",
        "\n",
        "Year = []\n",
        "Yearly_Income = []\n",
        "Yearly_Expenses = []\n",
        "Yearly_Investments = []\n",
        "Annual_Returns = []"
      ],
      "execution_count": 2,
      "outputs": []
    },
    {
      "cell_type": "code",
      "metadata": {
        "id": "vRhV-3Pf72kk"
      },
      "source": [
        "# Lets consider a fixed income per year($)\n",
        "income = 35000\n",
        "\n",
        "# Yearly constant expense\n",
        "expense = income/2\n",
        "\n",
        "# Average interest of 8% per year\n",
        "interest_rate = 0.08\n",
        "\n",
        "# Lets assume the individual invests half of his/her income\n",
        "investment = income/2\n",
        "\n",
        "# Calculating the annual return\n",
        "annual_return = investment * interest_rate\n",
        "\n",
        "# Getting the current year\n",
        "year = 2021"
      ],
      "execution_count": 3,
      "outputs": []
    },
    {
      "cell_type": "code",
      "metadata": {
        "id": "aj1EbH2yANDp"
      },
      "source": [
        "# Appending the first values to our lists\n",
        "\n",
        "Year.append(year)\n",
        "Yearly_Income.append(income)\n",
        "Yearly_Expenses.append(expense)\n",
        "Yearly_Investments.append(investment)\n",
        "Annual_Returns.append(annual_return)"
      ],
      "execution_count": 4,
      "outputs": []
    },
    {
      "cell_type": "code",
      "metadata": {
        "id": "LMFiIDM4BDHm"
      },
      "source": [
        "# Looping for \"n\" years\n",
        "\n",
        "invested_years = 20\n",
        "for i in range(0, invested_years-1):\n",
        "  # Update the investment to be the previous investment + previous annual returns + half of the income\n",
        "  investment = investment + annual_return + income/2\n",
        "\n",
        "  # Update the annual return to be the current investment times interest\n",
        "  annual_return = investment * interest_rate\n",
        "\n",
        "  # Appending the new data to the list\n",
        "  Year.append(year+i+1)\n",
        "  Yearly_Income.append(income)\n",
        "  Yearly_Expenses.append(expense)\n",
        "  Yearly_Investments.append(investment)\n",
        "  Annual_Returns.append(annual_return)"
      ],
      "execution_count": 5,
      "outputs": []
    },
    {
      "cell_type": "code",
      "metadata": {
        "colab": {
          "base_uri": "https://localhost:8080/",
          "height": 669
        },
        "id": "SRefWXPaD4WZ",
        "outputId": "caa86b8f-26f6-4a84-fcd8-92e92fc82977"
      },
      "source": [
        "# lets create a DataFrame\n",
        "\n",
        "df = pd.DataFrame()\n",
        "df[\"Year\"] = Year\n",
        "df[\"Yearly_Income\"] = Yearly_Income\n",
        "df[\"Yearly_Expenses\"] = Yearly_Expenses\n",
        "df[\"Yearly_Investments\"] = Yearly_Investments\n",
        "df[\"Annual_Returns\"] = Annual_Returns\n",
        "\n",
        "# Lets check the data\n",
        "df"
      ],
      "execution_count": 6,
      "outputs": [
        {
          "output_type": "execute_result",
          "data": {
            "text/html": [
              "<div>\n",
              "<style scoped>\n",
              "    .dataframe tbody tr th:only-of-type {\n",
              "        vertical-align: middle;\n",
              "    }\n",
              "\n",
              "    .dataframe tbody tr th {\n",
              "        vertical-align: top;\n",
              "    }\n",
              "\n",
              "    .dataframe thead th {\n",
              "        text-align: right;\n",
              "    }\n",
              "</style>\n",
              "<table border=\"1\" class=\"dataframe\">\n",
              "  <thead>\n",
              "    <tr style=\"text-align: right;\">\n",
              "      <th></th>\n",
              "      <th>Year</th>\n",
              "      <th>Yearly_Income</th>\n",
              "      <th>Yearly_Expenses</th>\n",
              "      <th>Yearly_Investments</th>\n",
              "      <th>Annual_Returns</th>\n",
              "    </tr>\n",
              "  </thead>\n",
              "  <tbody>\n",
              "    <tr>\n",
              "      <th>0</th>\n",
              "      <td>2021</td>\n",
              "      <td>35000</td>\n",
              "      <td>17500.0</td>\n",
              "      <td>17500.000000</td>\n",
              "      <td>1400.000000</td>\n",
              "    </tr>\n",
              "    <tr>\n",
              "      <th>1</th>\n",
              "      <td>2022</td>\n",
              "      <td>35000</td>\n",
              "      <td>17500.0</td>\n",
              "      <td>36400.000000</td>\n",
              "      <td>2912.000000</td>\n",
              "    </tr>\n",
              "    <tr>\n",
              "      <th>2</th>\n",
              "      <td>2023</td>\n",
              "      <td>35000</td>\n",
              "      <td>17500.0</td>\n",
              "      <td>56812.000000</td>\n",
              "      <td>4544.960000</td>\n",
              "    </tr>\n",
              "    <tr>\n",
              "      <th>3</th>\n",
              "      <td>2024</td>\n",
              "      <td>35000</td>\n",
              "      <td>17500.0</td>\n",
              "      <td>78856.960000</td>\n",
              "      <td>6308.556800</td>\n",
              "    </tr>\n",
              "    <tr>\n",
              "      <th>4</th>\n",
              "      <td>2025</td>\n",
              "      <td>35000</td>\n",
              "      <td>17500.0</td>\n",
              "      <td>102665.516800</td>\n",
              "      <td>8213.241344</td>\n",
              "    </tr>\n",
              "    <tr>\n",
              "      <th>5</th>\n",
              "      <td>2026</td>\n",
              "      <td>35000</td>\n",
              "      <td>17500.0</td>\n",
              "      <td>128378.758144</td>\n",
              "      <td>10270.300652</td>\n",
              "    </tr>\n",
              "    <tr>\n",
              "      <th>6</th>\n",
              "      <td>2027</td>\n",
              "      <td>35000</td>\n",
              "      <td>17500.0</td>\n",
              "      <td>156149.058796</td>\n",
              "      <td>12491.924704</td>\n",
              "    </tr>\n",
              "    <tr>\n",
              "      <th>7</th>\n",
              "      <td>2028</td>\n",
              "      <td>35000</td>\n",
              "      <td>17500.0</td>\n",
              "      <td>186140.983499</td>\n",
              "      <td>14891.278680</td>\n",
              "    </tr>\n",
              "    <tr>\n",
              "      <th>8</th>\n",
              "      <td>2029</td>\n",
              "      <td>35000</td>\n",
              "      <td>17500.0</td>\n",
              "      <td>218532.262179</td>\n",
              "      <td>17482.580974</td>\n",
              "    </tr>\n",
              "    <tr>\n",
              "      <th>9</th>\n",
              "      <td>2030</td>\n",
              "      <td>35000</td>\n",
              "      <td>17500.0</td>\n",
              "      <td>253514.843153</td>\n",
              "      <td>20281.187452</td>\n",
              "    </tr>\n",
              "    <tr>\n",
              "      <th>10</th>\n",
              "      <td>2031</td>\n",
              "      <td>35000</td>\n",
              "      <td>17500.0</td>\n",
              "      <td>291296.030606</td>\n",
              "      <td>23303.682448</td>\n",
              "    </tr>\n",
              "    <tr>\n",
              "      <th>11</th>\n",
              "      <td>2032</td>\n",
              "      <td>35000</td>\n",
              "      <td>17500.0</td>\n",
              "      <td>332099.713054</td>\n",
              "      <td>26567.977044</td>\n",
              "    </tr>\n",
              "    <tr>\n",
              "      <th>12</th>\n",
              "      <td>2033</td>\n",
              "      <td>35000</td>\n",
              "      <td>17500.0</td>\n",
              "      <td>376167.690098</td>\n",
              "      <td>30093.415208</td>\n",
              "    </tr>\n",
              "    <tr>\n",
              "      <th>13</th>\n",
              "      <td>2034</td>\n",
              "      <td>35000</td>\n",
              "      <td>17500.0</td>\n",
              "      <td>423761.105306</td>\n",
              "      <td>33900.888425</td>\n",
              "    </tr>\n",
              "    <tr>\n",
              "      <th>14</th>\n",
              "      <td>2035</td>\n",
              "      <td>35000</td>\n",
              "      <td>17500.0</td>\n",
              "      <td>475161.993731</td>\n",
              "      <td>38012.959498</td>\n",
              "    </tr>\n",
              "    <tr>\n",
              "      <th>15</th>\n",
              "      <td>2036</td>\n",
              "      <td>35000</td>\n",
              "      <td>17500.0</td>\n",
              "      <td>530674.953229</td>\n",
              "      <td>42453.996258</td>\n",
              "    </tr>\n",
              "    <tr>\n",
              "      <th>16</th>\n",
              "      <td>2037</td>\n",
              "      <td>35000</td>\n",
              "      <td>17500.0</td>\n",
              "      <td>590628.949488</td>\n",
              "      <td>47250.315959</td>\n",
              "    </tr>\n",
              "    <tr>\n",
              "      <th>17</th>\n",
              "      <td>2038</td>\n",
              "      <td>35000</td>\n",
              "      <td>17500.0</td>\n",
              "      <td>655379.265447</td>\n",
              "      <td>52430.341236</td>\n",
              "    </tr>\n",
              "    <tr>\n",
              "      <th>18</th>\n",
              "      <td>2039</td>\n",
              "      <td>35000</td>\n",
              "      <td>17500.0</td>\n",
              "      <td>725309.606682</td>\n",
              "      <td>58024.768535</td>\n",
              "    </tr>\n",
              "    <tr>\n",
              "      <th>19</th>\n",
              "      <td>2040</td>\n",
              "      <td>35000</td>\n",
              "      <td>17500.0</td>\n",
              "      <td>800834.375217</td>\n",
              "      <td>64066.750017</td>\n",
              "    </tr>\n",
              "  </tbody>\n",
              "</table>\n",
              "</div>"
            ],
            "text/plain": [
              "    Year  Yearly_Income  Yearly_Expenses  Yearly_Investments  Annual_Returns\n",
              "0   2021          35000          17500.0        17500.000000     1400.000000\n",
              "1   2022          35000          17500.0        36400.000000     2912.000000\n",
              "2   2023          35000          17500.0        56812.000000     4544.960000\n",
              "3   2024          35000          17500.0        78856.960000     6308.556800\n",
              "4   2025          35000          17500.0       102665.516800     8213.241344\n",
              "5   2026          35000          17500.0       128378.758144    10270.300652\n",
              "6   2027          35000          17500.0       156149.058796    12491.924704\n",
              "7   2028          35000          17500.0       186140.983499    14891.278680\n",
              "8   2029          35000          17500.0       218532.262179    17482.580974\n",
              "9   2030          35000          17500.0       253514.843153    20281.187452\n",
              "10  2031          35000          17500.0       291296.030606    23303.682448\n",
              "11  2032          35000          17500.0       332099.713054    26567.977044\n",
              "12  2033          35000          17500.0       376167.690098    30093.415208\n",
              "13  2034          35000          17500.0       423761.105306    33900.888425\n",
              "14  2035          35000          17500.0       475161.993731    38012.959498\n",
              "15  2036          35000          17500.0       530674.953229    42453.996258\n",
              "16  2037          35000          17500.0       590628.949488    47250.315959\n",
              "17  2038          35000          17500.0       655379.265447    52430.341236\n",
              "18  2039          35000          17500.0       725309.606682    58024.768535\n",
              "19  2040          35000          17500.0       800834.375217    64066.750017"
            ]
          },
          "metadata": {},
          "execution_count": 6
        }
      ]
    },
    {
      "cell_type": "code",
      "metadata": {
        "colab": {
          "base_uri": "https://localhost:8080/",
          "height": 338
        },
        "id": "6-dziijDG1Nr",
        "outputId": "e6e5a340-90c7-42e4-907d-b952a0c24d6a"
      },
      "source": [
        "# Lets visualize the data\n",
        "\n",
        "plt.figure(figsize = (12.2,4.5))\n",
        "plt.plot(df[\"Year\"], df[\"Yearly_Expenses\"], label = \"Yearly_Expenses\")\n",
        "plt.plot(df[\"Year\"], df[\"Annual_Returns\"], label = \"Annual_Returns\")\n",
        "plt.xticks(rotation = 45)\n",
        "plt.title(\"Retire in 10 Years\")\n",
        "plt.xlabel(\"Years\")\n",
        "plt.ylabel(\"$\")\n",
        "plt.xticks(df[\"Year\"])\n",
        "plt.legend()\n",
        "plt.show();"
      ],
      "execution_count": 7,
      "outputs": [
        {
          "output_type": "display_data",
          "data": {
            "image/png": "[encoded data removed]",
            "text/plain": [
              "<Figure size 878.4x324 with 1 Axes>"
            ]
          },
          "metadata": {
            "needs_background": "light"
          }
        }
      ]
    },
    {
      "cell_type": "markdown",
      "metadata": {
        "id": "X5XI95X4MVqF"
      },
      "source": [
        "We can see that by 2030 the indvidual will be financially sustained."
      ]
    },
    {
      "cell_type": "code",
      "metadata": {
        "colab": {
          "base_uri": "https://localhost:8080/",
          "height": 204
        },
        "id": "zFw20RzgMJ-T",
        "outputId": "97e6be17-3296-4ee2-84bb-a2d18d81a3e8"
      },
      "source": [
        "# Lets see the rows where the individual can live off of returns\n",
        "\n",
        "df[df[\"Yearly_Expenses\"] <= df[\"Annual_Returns\"]].head()"
      ],
      "execution_count": 8,
      "outputs": [
        {
          "output_type": "execute_result",
          "data": {
            "text/html": [
              "<div>\n",
              "<style scoped>\n",
              "    .dataframe tbody tr th:only-of-type {\n",
              "        vertical-align: middle;\n",
              "    }\n",
              "\n",
              "    .dataframe tbody tr th {\n",
              "        vertical-align: top;\n",
              "    }\n",
              "\n",
              "    .dataframe thead th {\n",
              "        text-align: right;\n",
              "    }\n",
              "</style>\n",
              "<table border=\"1\" class=\"dataframe\">\n",
              "  <thead>\n",
              "    <tr style=\"text-align: right;\">\n",
              "      <th></th>\n",
              "      <th>Year</th>\n",
              "      <th>Yearly_Income</th>\n",
              "      <th>Yearly_Expenses</th>\n",
              "      <th>Yearly_Investments</th>\n",
              "      <th>Annual_Returns</th>\n",
              "    </tr>\n",
              "  </thead>\n",
              "  <tbody>\n",
              "    <tr>\n",
              "      <th>9</th>\n",
              "      <td>2030</td>\n",
              "      <td>35000</td>\n",
              "      <td>17500.0</td>\n",
              "      <td>253514.843153</td>\n",
              "      <td>20281.187452</td>\n",
              "    </tr>\n",
              "    <tr>\n",
              "      <th>10</th>\n",
              "      <td>2031</td>\n",
              "      <td>35000</td>\n",
              "      <td>17500.0</td>\n",
              "      <td>291296.030606</td>\n",
              "      <td>23303.682448</td>\n",
              "    </tr>\n",
              "    <tr>\n",
              "      <th>11</th>\n",
              "      <td>2032</td>\n",
              "      <td>35000</td>\n",
              "      <td>17500.0</td>\n",
              "      <td>332099.713054</td>\n",
              "      <td>26567.977044</td>\n",
              "    </tr>\n",
              "    <tr>\n",
              "      <th>12</th>\n",
              "      <td>2033</td>\n",
              "      <td>35000</td>\n",
              "      <td>17500.0</td>\n",
              "      <td>376167.690098</td>\n",
              "      <td>30093.415208</td>\n",
              "    </tr>\n",
              "    <tr>\n",
              "      <th>13</th>\n",
              "      <td>2034</td>\n",
              "      <td>35000</td>\n",
              "      <td>17500.0</td>\n",
              "      <td>423761.105306</td>\n",
              "      <td>33900.888425</td>\n",
              "    </tr>\n",
              "  </tbody>\n",
              "</table>\n",
              "</div>"
            ],
            "text/plain": [
              "    Year  Yearly_Income  Yearly_Expenses  Yearly_Investments  Annual_Returns\n",
              "9   2030          35000          17500.0       253514.843153    20281.187452\n",
              "10  2031          35000          17500.0       291296.030606    23303.682448\n",
              "11  2032          35000          17500.0       332099.713054    26567.977044\n",
              "12  2033          35000          17500.0       376167.690098    30093.415208\n",
              "13  2034          35000          17500.0       423761.105306    33900.888425"
            ]
          },
          "metadata": {},
          "execution_count": 8
        }
      ]
    }
  ]
}